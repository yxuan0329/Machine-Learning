{
  "nbformat": 4,
  "nbformat_minor": 0,
  "metadata": {
    "colab": {
      "provenance": [],
      "include_colab_link": true
    },
    "kernelspec": {
      "name": "python3",
      "display_name": "Python 3"
    },
    "language_info": {
      "name": "python"
    }
  },
  "cells": [
    {
      "cell_type": "markdown",
      "metadata": {
        "id": "view-in-github",
        "colab_type": "text"
      },
      "source": [
        "<a href=\"https://colab.research.google.com/github/yxuan0329/Machine-Learning/blob/master/logistic_regression.ipynb\" target=\"_parent\"><img src=\"https://colab.research.google.com/assets/colab-badge.svg\" alt=\"Open In Colab\"/></a>"
      ]
    },
    {
      "cell_type": "code",
      "execution_count": 69,
      "metadata": {
        "id": "BMH5lm_PrhdD"
      },
      "outputs": [],
      "source": [
        "# Only these three packages are allowed\n",
        "import numpy as np\n",
        "import pandas as pd\n",
        "import matplotlib.pyplot as plt"
      ]
    },
    {
      "cell_type": "code",
      "source": [
        "!gdown --folder https://drive.google.com/drive/folders/1wZiQGxY7-YWCify3rHvIc4XcJeWCKt_0\n",
        "!cp PR_HW2_dataset/* .\n",
        "# !rm -r PR_HW2_dataset"
      ],
      "metadata": {
        "id": "siKkuROjZGng"
      },
      "execution_count": null,
      "outputs": []
    },
    {
      "cell_type": "code",
      "source": [
        "class FLD:\n",
        "    def __init__(self):\n",
        "        self.mean_vectors = []\n",
        "        self.sw = None\n",
        "        self.sb = None\n",
        "        self.w = None\n",
        "        self.slope = None\n",
        "\n",
        "    def fit(self, X, y):\n",
        "        rows, features = X.shape # 1000, 2\n",
        "        labels = np.unique(y)\n",
        "        # Compute mean vectors for each class\n",
        "        self.mean_vectors = [np.mean(X[y.flatten() == i], axis=0) for i in np.unique(y)]\n",
        "        \n",
        "        # Compute Sw (within-class scatter matrix)\n",
        "        self.sw = np.zeros((features, features))\n",
        "        for i, mean_vec in enumerate(self.mean_vectors):\n",
        "            class_sc_mat = np.zeros((features, features))\n",
        "            for row in X[y.flatten() == i]:\n",
        "                row, mean_vec = row.reshape(features, 1), mean_vec.reshape(features, 1)\n",
        "                class_sc_mat += (row - mean_vec).dot((row - mean_vec).T) \n",
        "            self.sw += class_sc_mat\n",
        "        \n",
        "        # Compute Sb (between-class scatter matrix)\n",
        "        overall_mean = np.mean(X, axis=0)\n",
        "        self.sb = np.zeros((features, features))\n",
        "        for i, mean_vec in enumerate(self.mean_vectors):\n",
        "            n = X[y.flatten() == i,:].shape[0]\n",
        "            mean_vec = mean_vec.reshape(features, 1)\n",
        "            overall_mean = overall_mean.reshape(features, 1)\n",
        "            self.sb += n * (mean_vec - overall_mean).dot((mean_vec - overall_mean).T)\n",
        "        \n",
        "        # Compute eigenvalues and eigenvectors of (Sw^-1)(Sb)\n",
        "        self.w = np.linalg.inv(self.sw).dot(self.sb)\n",
        "        eig_vals, eig_vecs = np.linalg.eig(self.w)\n",
        "        print(eig_vals, eig_vecs)\n",
        "\n",
        "        # Sort eigenvectors in descending order of eigenvalues\n",
        "        eig_pairs = [(np.abs(eig_vals[i]), eig_vecs[:,i]) for i in range(len(eig_vals))]\n",
        "        eig_pairs = sorted(eig_pairs, key=lambda k: k[0], reverse=True)\n",
        "\n",
        "        # Use the eigenvectors corresponding to the k largest eigenvalues to construct the projection matrix\n",
        "        self.w = np.hstack((eig_pairs[0][1].reshape(X.shape[1], 1), eig_pairs[1][1].reshape(X.shape[1], 1)))\n",
        "        self.slope = self.w[1] / self.w[0]\n",
        "        \n",
        "    def predict_using_class_mean(self, X, y, X_test):\n",
        "        y_pred = []\n",
        "        for x in X_test:\n",
        "            distances = [np.linalg.norm(x - mv) for mv in self.mean_vectors]\n",
        "            y_pred.append(np.argmin(distances)) # find shortest distance to the mean\n",
        "        return np.array(y_pred)\n",
        "\n",
        "    def predict_using_knn(self, X, y, X_test, k=1):\n",
        "        # Initialize predicted labels with zeros\n",
        "        y_pred = np.zeros(y.shape)\n",
        "\n",
        "        # Compute Euclidean distance between each test point and training data\n",
        "        distances = np.sqrt(np.sum((X[:, np.newaxis] - X_test)**2, axis=2))\n",
        "\n",
        "        # Sort distances in ascending order and get the indices of the k-nearest neighbors\n",
        "        indices = np.argsort(distances, axis=0)[:k]\n",
        "\n",
        "        # Get the corresponding labels of the k-nearest neighbors and compute the mode\n",
        "        y_pred = np.squeeze(np.apply_along_axis(lambda x: np.bincount(x).argmax(), axis=1, arr=y[indices]))\n",
        "        return y_pred\n",
        "\n",
        "    def show_confusion_matrix(self, y, y_pred):\n",
        "        classes = len(np.unique(y)) # 3\n",
        "        confusion_matrix = np.zeros((classes, classes))\n",
        "        confusion_mat = np.zeros((np.unique(y).shape[0], np.unique(y).shape[0]))\n",
        "        for i in range(len(np.unique(y))):\n",
        "            for j in range(len(np.unique(y))):\n",
        "                confusion_mat[i, j] = np.sum((y == i) & (y_pred == j))\n",
        "\n",
        "        # Plot the confusion matrix\n",
        "        plt.imshow(confusion_mat, cmap='Blues')\n",
        "        plt.xticks(ticks=np.arange(len(np.unique(y))), labels=np.unique(y))\n",
        "        plt.yticks(ticks=np.arange(len(np.unique(y))), labels=np.unique(y))\n",
        "        plt.xlabel('Predicted Label')\n",
        "        plt.ylabel('True Label')\n",
        "        plt.colorbar()\n",
        "        for i in range(len(np.unique(y))):\n",
        "            for j in range(len(np.unique(y))):\n",
        "                plt.text(j, i, int(confusion_mat[i, j]), ha='center', va='center', color='white')\n",
        "        plt.show()\n",
        "\n",
        "    def plot_projection(self, X, y):\n",
        "        projection = X.dot(self.w)\n",
        "        color_list = ['blue', 'orange', 'green']\n",
        "        colors = [color_list[int(label)] for label in y]\n",
        "        plt.scatter(projection, X)\n",
        "        print(projection.shape, X.shape)\n",
        "        plt.xlabel(\"Fisher's Linear Discriminant\")\n",
        "        plt.yticks([])\n",
        "        plt.show()\n",
        "\n",
        "    def accuracy_score(self, y, y_pred):\n",
        "        return np.mean(y == y_pred)"
      ],
      "metadata": {
        "id": "0FQ7Z945rnF5"
      },
      "execution_count": null,
      "outputs": []
    },
    {
      "cell_type": "code",
      "source": [
        "class MultiClassLogisticRegression:\n",
        "    \n",
        "    def __init__(self):\n",
        "        # self.classes = np.unique(y)\n",
        "        self.epoch = []\n",
        "        self.train_loss = []\n",
        "        self.weights = None\n",
        "\n",
        "    def fit(self, X, y, batch_size=16, lr=0.001, epochs=100):\n",
        "        rows, features = X.shape \n",
        "        classes = len(np.unique(y))\n",
        "        self.weights = np.ones((classes, features), dtype=float)\n",
        "        one_hot_y = self.one_hot(y)\n",
        "\n",
        "        for epoch in range(epochs):\n",
        "            for batch in range(len(X)//batch_size):\n",
        "                y_prob = self.predict(X)\n",
        "                # print(\"x shape\", X.shape, \", y_prob shape\", y_prob.shape, \", one_hot_y shape\", one_hot_y.shape) # -> x(1000, 3), y_prob(1000, 3), one_hot_y(1000, 3)\n",
        "                gradient = np.dot((y_prob - one_hot_y).T, X) / rows # (1000, 3).T * (1000, 3) = (3, 3)\n",
        "                self.weights = self.weights - lr * gradient  # -> gd(3, 3)  w(3, 3)\n",
        "                # print(\"gradient shape\", gradient.shape, \"weight shape\", self.weights.shape)\n",
        "\n",
        "            if epoch % 2000 == 0:\n",
        "                train_loss = self.cross_entropy(y, self.predict(X))\n",
        "                accuracy = self.evaluate(X, y)\n",
        "                print(f'epoch: {epoch}, weight: {self.weights}, loss: {train_loss}, accuracy: {accuracy}') \n",
        "    \n",
        "    def predict(self, X):\n",
        "        z = np.dot(X, self.weights.T)\n",
        "        y_prob = self.softmax(z)\n",
        "        return y_prob\n",
        "\n",
        "    def evaluate(self, X, y):\n",
        "        y_prob = self.predict(X) # (1000, 3)\n",
        "        y_pred = np.argmax(y_prob, axis=1)\n",
        "        # for row in range (y_prob.shape[0]):\n",
        "        #     y_pred[row][0] = np.argmax(y_prob[row]) # maximum probability for each row\n",
        "        # print(y_prob)\n",
        "        accuracy = self.accuracy_score(y, y_pred)\n",
        "        # unique_classes, class_counts = np.unique(y_pred, return_counts=True)\n",
        "        # for i, cls in enumerate(unique_classes):\n",
        "        #     print(f\"Class {cls}: {class_counts[i]}\")\n",
        "        return accuracy\n",
        "\n",
        "    def softmax(self, z):\n",
        "        exp_z = np.exp(z)\n",
        "        return exp_z / np.sum(exp_z, axis=1).reshape(-1,1)\n",
        "\n",
        "    def cross_entropy(self, y, probs):\n",
        "        # Compute one-hot encoded labels\n",
        "        one_hot_y = self.one_hot(y)\n",
        "\n",
        "        # Calculate cross-entropy loss\n",
        "        loss = - np.sum(one_hot_y * np.log(probs)) / y.shape[0]\n",
        "        return loss\n",
        "\n",
        "\n",
        "    def one_hot(self, y):\n",
        "        one_hot_y = np.zeros((len(y), len(np.unique(y)) ))\n",
        "        one_hot_y[np.arange(len(y)),np.array(y).reshape(-1)] = 1\n",
        "        return one_hot_y\n",
        "\n",
        "    def accuracy_score(self, y, y_pred):\n",
        "        return np.mean(y == y_pred)\n",
        "\n",
        "    def show_confusion_matrix(self, X, y):\n",
        "        # Get predicted classes\n",
        "        y_pred = np.argmax(self.predict(X), axis=1)\n",
        "        cm = pd.crosstab(y, y_pred, rownames=['Actual'], colnames=['Predicted'])\n",
        "        plt.figure(figsize=(8, 6))\n",
        "        plt.title('Confusion Matrix')\n",
        "        plt.xlabel('Predicted')\n",
        "        plt.ylabel('Actual')\n",
        "        plt.imshow(cm, cmap='Blues', interpolation='nearest')\n",
        "        plt.xticks(np.arange(len(np.unique(y))), np.unique(y))\n",
        "        plt.yticks(np.arange(len(np.unique(y))), np.unique(y))\n",
        "        for i in range(len(np.unique(y))):\n",
        "            for j in range(len(np.unique(y))):\n",
        "                plt.text(j, i, str(cm.values[i, j]), ha='center', va='center', color='white')\n",
        "        plt.show()"
      ],
      "metadata": {
        "id": "fNjwTeUD2UAV"
      },
      "execution_count": 230,
      "outputs": []
    },
    {
      "cell_type": "markdown",
      "source": [],
      "metadata": {
        "id": "1altos4fSeRs"
      }
    },
    {
      "cell_type": "markdown",
      "source": [
        "# Prepare data for Q1 ~ Q12"
      ],
      "metadata": {
        "id": "tW-wMhSw8fT8"
      }
    },
    {
      "cell_type": "code",
      "source": [
        "df_train = pd.DataFrame(pd.read_csv(\"./PR_HW2_blob_train.csv\"))\n",
        "df_test  = pd.DataFrame(pd.read_csv(\"./PR_HW2_blob_test.csv\"))\n",
        "# print(df_train)"
      ],
      "metadata": {
        "id": "k43aGfaQ7TsP"
      },
      "execution_count": 138,
      "outputs": []
    },
    {
      "cell_type": "code",
      "source": [
        "X_train = df_train[['Feature1', 'Feature2']].to_numpy()\n",
        "X_train = np.hstack([X_train, np.ones((X_train.shape[0], 1))]) # extend one column\n",
        "y_train = df_train[['Target']].to_numpy().reshape(1000, 1)\n",
        "\n",
        "X_test = df_test[['Feature1', 'Feature2']].to_numpy()\n",
        "X_test = np.hstack([X_test, np.ones((X_test.shape[0], 1))])\n",
        "y_test = df_test[['Target']].to_numpy().reshape(1000, 1) # .ravel()\n",
        "\n",
        "print(\"X_train\", X_train.shape)\n",
        "print(\"y_train\", y_train.shape)\n",
        "print(\"X_test\",  X_test.shape)\n",
        "print(\"y_test\",  y_test.shape)"
      ],
      "metadata": {
        "id": "2RqHvQCu76Yn",
        "colab": {
          "base_uri": "https://localhost:8080/"
        },
        "outputId": "e661a657-8df0-4bdd-c61b-b01703439295"
      },
      "execution_count": 139,
      "outputs": [
        {
          "output_type": "stream",
          "name": "stdout",
          "text": [
            "X_train (1000, 3)\n",
            "y_train (1000, 1)\n",
            "X_test (1000, 3)\n",
            "y_test (1000, 1)\n"
          ]
        }
      ]
    },
    {
      "cell_type": "markdown",
      "source": [
        "# MultiClass Logistic Regression"
      ],
      "metadata": {
        "id": "E_HKrHzE8_Sy"
      }
    },
    {
      "cell_type": "code",
      "source": [
        "# For Q1\n",
        "lr = 1e-5\n",
        "batch_size = 1000\n",
        "epoch = 50000\n",
        "\n",
        "logistic_reg = MultiClassLogisticRegression()\n",
        "logistic_reg.fit(X_train, y_train, lr=lr, batch_size=batch_size, epochs=epoch)"
      ],
      "metadata": {
        "id": "xN1uUlEC9FqA",
        "colab": {
          "base_uri": "https://localhost:8080/"
        },
        "outputId": "5719c627-9944-41b4-e996-f5635eba582e"
      },
      "execution_count": 231,
      "outputs": [
        {
          "output_type": "stream",
          "name": "stdout",
          "text": [
            "epoch: 0, weight: [[1.00000428 1.00001078 0.99999994]\n",
            " [0.99998642 0.9999737  1.00000001]\n",
            " [1.0000093  1.00001552 1.00000006]], loss: 1.0984784891255681, accuracy: 0.337006\n",
            "epoch: 2000, weight: [[1.00724398 1.0188285  0.99985851]\n",
            " [0.97641772 0.95397341 0.99999305]\n",
            " [1.01633831 1.02719809 1.00014844]], loss: 0.8929987104840396, accuracy: 0.336946\n",
            "epoch: 4000, weight: [[1.01175417 1.03319229 0.99978037]\n",
            " [0.95930754 0.91854996 0.99984909]\n",
            " [1.02893829 1.04825774 1.00037054]], loss: 0.7734981166602769, accuracy: 0.33673\n",
            "epoch: 6000, weight: [[1.01407816 1.04443655 0.99978926]\n",
            " [0.94685094 0.89041427 0.9995783 ]\n",
            " [1.0390709  1.06514918 1.00063243]], loss: 0.6998499798389116, accuracy: 0.336514\n",
            "epoch: 8000, weight: [[1.01488467 1.05350355 0.99986019]\n",
            " [0.93747668 0.86731606 0.99923742]\n",
            " [1.04763864 1.07918039 1.00090239]], loss: 0.6509658677681366, accuracy: 0.336298\n",
            "epoch: 10000, weight: [[1.01466584 1.06100255 0.99996809]\n",
            " [0.93014576 0.84781021 0.99886777]\n",
            " [1.0551884  1.09118724 1.00116414]], loss: 0.61629709936807, accuracy: 0.33601\n",
            "epoch: 12000, weight: [[1.01374847 1.0673285  1.00009543]\n",
            " [0.92420678 0.83095997 0.99849329]\n",
            " [1.06204475 1.10171153 1.00141128]], loss: 0.5903540045898821, accuracy: 0.33577\n",
            "epoch: 14000, weight: [[1.01234733 1.07274644 1.00023101]\n",
            " [0.91924694 0.81613813 0.9981268 ]\n",
            " [1.06840574 1.11111543 1.00164219]], loss: 0.5700950770228265, accuracy: 0.335638\n",
            "epoch: 16000, weight: [[1.01060577 1.07744183 1.00036792]\n",
            " [0.91499686 0.80290935 0.99777484]\n",
            " [1.07439737 1.11964883 1.00185724]], loss: 0.5537280162367547, accuracy: 0.335434\n",
            "epoch: 18000, weight: [[1.00862164 1.08154954 1.00050202]\n",
            " [0.911275   0.79096125 0.99744047]\n",
            " [1.08010335 1.12748921 1.00205751]], loss: 0.5401377067929202, accuracy: 0.335314\n",
            "epoch: 20000, weight: [[1.00646324 1.08517101 1.00063092]\n",
            " [0.90795522 0.78006301 0.99712481]\n",
            " [1.08558153 1.13476598 1.00224427]], loss: 0.5285974889049753, accuracy: 0.33517\n",
            "epoch: 22000, weight: [[1.00417925 1.08838461 1.00075332]\n",
            " [0.90494742 0.77003975 0.99682799]\n",
            " [1.09087333 1.14157564 1.00241869]], loss: 0.5186149195025971, accuracy: 0.334954\n",
            "epoch: 24000, weight: [[1.00180505 1.09125224 1.00086863]\n",
            " [0.90218567 0.76075602 0.99654955]\n",
            " [1.09600929 1.14799174 1.00258182]], loss: 0.5098449956736741, accuracy: 0.334846\n",
            "epoch: 26000, weight: [[0.99936676 1.09382363 1.00097668]\n",
            " [0.89962072 0.75210499 0.99628873]\n",
            " [1.10101252 1.15407138 1.00273459]], loss: 0.5020390419567302, accuracy: 0.334762\n",
            "epoch: 28000, weight: [[0.99688402 1.09613934 1.00107756]\n",
            " [0.8972151  0.74400096 0.99604466]\n",
            " [1.10590088 1.1598597  1.00287778]], loss: 0.49501337011092034, accuracy: 0.334666\n",
            "epoch: 30000, weight: [[0.99437175 1.0982328  1.0011715 ]\n",
            " [0.89493982 0.73637424 0.99581642]\n",
            " [1.11068844 1.16539295 1.00301208]], loss: 0.488629375418565, accuracy: 0.334582\n",
            "epoch: 32000, weight: [[0.99184143 1.10013189 1.00125883]\n",
            " [0.89277216 0.72916743 0.99560308]\n",
            " [1.11538641 1.17070068 1.00313809]], loss: 0.4827805007875745, accuracy: 0.334498\n",
            "epoch: 34000, weight: [[0.98930201 1.10186001 1.0013399 ]\n",
            " [0.89069411 0.72233272 0.99540376]\n",
            " [1.12000388 1.17580727 1.00325634]], loss: 0.47738346426698997, accuracy: 0.334438\n",
            "epoch: 36000, weight: [[0.98676049 1.10343698 1.0014151 ]\n",
            " [0.8886912  0.7158299  0.99521759]\n",
            " [1.12454831 1.18073312 1.00336731]], loss: 0.4723722122969712, accuracy: 0.334354\n",
            "epoch: 38000, weight: [[0.9842224  1.10487969 1.00148479]\n",
            " [0.88675175 0.70962487 0.99504378]\n",
            " [1.12902585 1.18549544 1.00347143]], loss: 0.46769366187309697, accuracy: 0.334342\n",
            "epoch: 40000, weight: [[0.98169213 1.10620263 1.00154934]\n",
            " [0.88486622 0.70368845 0.99488158]\n",
            " [1.13344165 1.19010892 1.00356907]], loss: 0.4633046446034431, accuracy: 0.334258\n",
            "epoch: 42000, weight: [[0.97917319 1.10741828 1.00160909]\n",
            " [0.88302676 0.6979955  0.9947303 ]\n",
            " [1.13780005 1.19458621 1.00366061]], loss: 0.45916967541964854, accuracy: 0.334198\n",
            "epoch: 44000, weight: [[0.97666837 1.10853749 1.00166437]\n",
            " [0.8812269  0.69252424 0.99458927]\n",
            " [1.14210473 1.19893827 1.00374636]], loss: 0.4552592979364277, accuracy: 0.33415\n",
            "epoch: 46000, weight: [[0.97417988 1.10956969 1.00171547]\n",
            " [0.87946126 0.68725564 0.9944579 ]\n",
            " [1.14635886 1.20317468 1.00382663]], loss: 0.4515488400237835, accuracy: 0.334126\n",
            "epoch: 48000, weight: [[0.97170952 1.11052313 1.00176268]\n",
            " [0.87772535 0.68217303 0.99433563]\n",
            " [1.15056513 1.20730384 1.00390169]], loss: 0.44801746578932183, accuracy: 0.334114\n"
          ]
        }
      ]
    },
    {
      "cell_type": "code",
      "source": [
        "# For Q2\n",
        "print('Training acc: ', logistic_reg.evaluate(X_train, y_train))"
      ],
      "metadata": {
        "id": "R_Y8kIlQ9Jcz",
        "colab": {
          "base_uri": "https://localhost:8080/"
        },
        "outputId": "bcb18408-2e7e-4cf6-ab67-44c3b2cef86a"
      },
      "execution_count": 175,
      "outputs": [
        {
          "output_type": "stream",
          "name": "stdout",
          "text": [
            "Training acc:  0.339\n"
          ]
        }
      ]
    },
    {
      "cell_type": "code",
      "source": [
        "# For Q3\n",
        "print('Testing acc: ', logistic_reg.evaluate(X_test, y_test))"
      ],
      "metadata": {
        "id": "TzqioRVD9Jgn",
        "colab": {
          "base_uri": "https://localhost:8080/"
        },
        "outputId": "2b2ee5df-4506-4bc5-9836-59477a15c9c4"
      },
      "execution_count": 176,
      "outputs": [
        {
          "output_type": "stream",
          "name": "stdout",
          "text": [
            "Testing acc:  0.327\n"
          ]
        }
      ]
    },
    {
      "cell_type": "code",
      "source": [
        "# For Q4\n",
        "logistic_reg.plot_curve()"
      ],
      "metadata": {
        "id": "B_BSVWmM9JkX",
        "colab": {
          "base_uri": "https://localhost:8080/",
          "height": 185
        },
        "outputId": "1df688f3-fa01-4b1e-c8a8-d0523144f6a8"
      },
      "execution_count": null,
      "outputs": [
        {
          "output_type": "error",
          "ename": "AttributeError",
          "evalue": "ignored",
          "traceback": [
            "\u001b[0;31m---------------------------------------------------------------------------\u001b[0m",
            "\u001b[0;31mAttributeError\u001b[0m                            Traceback (most recent call last)",
            "\u001b[0;32m<ipython-input-113-9b988217f657>\u001b[0m in \u001b[0;36m<cell line: 2>\u001b[0;34m()\u001b[0m\n\u001b[1;32m      1\u001b[0m \u001b[0;31m# For Q4\u001b[0m\u001b[0;34m\u001b[0m\u001b[0;34m\u001b[0m\u001b[0m\n\u001b[0;32m----> 2\u001b[0;31m \u001b[0mlogistic_reg\u001b[0m\u001b[0;34m.\u001b[0m\u001b[0mplot_curve\u001b[0m\u001b[0;34m(\u001b[0m\u001b[0;34m)\u001b[0m\u001b[0;34m\u001b[0m\u001b[0;34m\u001b[0m\u001b[0m\n\u001b[0m",
            "\u001b[0;31mAttributeError\u001b[0m: 'MultiClassLogisticRegression' object has no attribute 'plot_curve'"
          ]
        }
      ]
    },
    {
      "cell_type": "code",
      "source": [
        "# For Q5\n",
        "logistic_reg.show_confusion_matrix(X_test, y_test)"
      ],
      "metadata": {
        "id": "r8tAlAPc9JoP",
        "colab": {
          "base_uri": "https://localhost:8080/",
          "height": 306
        },
        "outputId": "0f473a87-24e5-4f0a-8a91-d6a751f9201f"
      },
      "execution_count": null,
      "outputs": [
        {
          "output_type": "error",
          "ename": "AttributeError",
          "evalue": "ignored",
          "traceback": [
            "\u001b[0;31m---------------------------------------------------------------------------\u001b[0m",
            "\u001b[0;31mAttributeError\u001b[0m                            Traceback (most recent call last)",
            "\u001b[0;32m<ipython-input-114-357ea4ece689>\u001b[0m in \u001b[0;36m<cell line: 2>\u001b[0;34m()\u001b[0m\n\u001b[1;32m      1\u001b[0m \u001b[0;31m# For Q5\u001b[0m\u001b[0;34m\u001b[0m\u001b[0;34m\u001b[0m\u001b[0m\n\u001b[0;32m----> 2\u001b[0;31m \u001b[0mlogistic_reg\u001b[0m\u001b[0;34m.\u001b[0m\u001b[0mshow_confusion_matrix\u001b[0m\u001b[0;34m(\u001b[0m\u001b[0mX_test\u001b[0m\u001b[0;34m,\u001b[0m \u001b[0my_test\u001b[0m\u001b[0;34m)\u001b[0m\u001b[0;34m\u001b[0m\u001b[0;34m\u001b[0m\u001b[0m\n\u001b[0m",
            "\u001b[0;32m<ipython-input-107-df2d91b2aeb1>\u001b[0m in \u001b[0;36mshow_confusion_matrix\u001b[0;34m(self, X, y)\u001b[0m\n\u001b[1;32m     50\u001b[0m     \u001b[0;32mdef\u001b[0m \u001b[0mshow_confusion_matrix\u001b[0m\u001b[0;34m(\u001b[0m\u001b[0mself\u001b[0m\u001b[0;34m,\u001b[0m \u001b[0mX\u001b[0m\u001b[0;34m,\u001b[0m \u001b[0my\u001b[0m\u001b[0;34m)\u001b[0m\u001b[0;34m:\u001b[0m\u001b[0;34m\u001b[0m\u001b[0;34m\u001b[0m\u001b[0m\n\u001b[1;32m     51\u001b[0m         \u001b[0my_pred\u001b[0m \u001b[0;34m=\u001b[0m \u001b[0mself\u001b[0m\u001b[0;34m.\u001b[0m\u001b[0mpredict\u001b[0m\u001b[0;34m(\u001b[0m\u001b[0mX\u001b[0m\u001b[0;34m)\u001b[0m\u001b[0;34m\u001b[0m\u001b[0;34m\u001b[0m\u001b[0m\n\u001b[0;32m---> 52\u001b[0;31m         \u001b[0mn_classes\u001b[0m \u001b[0;34m=\u001b[0m \u001b[0mself\u001b[0m\u001b[0;34m.\u001b[0m\u001b[0mclasses\u001b[0m\u001b[0;34m.\u001b[0m\u001b[0msize\u001b[0m\u001b[0;34m\u001b[0m\u001b[0;34m\u001b[0m\u001b[0m\n\u001b[0m\u001b[1;32m     53\u001b[0m         \u001b[0mconfusion_matrix\u001b[0m \u001b[0;34m=\u001b[0m \u001b[0mnp\u001b[0m\u001b[0;34m.\u001b[0m\u001b[0mzeros\u001b[0m\u001b[0;34m(\u001b[0m\u001b[0;34m(\u001b[0m\u001b[0mn_classes\u001b[0m\u001b[0;34m,\u001b[0m \u001b[0mn_classes\u001b[0m\u001b[0;34m)\u001b[0m\u001b[0;34m,\u001b[0m \u001b[0mdtype\u001b[0m\u001b[0;34m=\u001b[0m\u001b[0mnp\u001b[0m\u001b[0;34m.\u001b[0m\u001b[0mint32\u001b[0m\u001b[0;34m)\u001b[0m\u001b[0;34m\u001b[0m\u001b[0;34m\u001b[0m\u001b[0m\n\u001b[1;32m     54\u001b[0m         \u001b[0;32mfor\u001b[0m \u001b[0mi\u001b[0m \u001b[0;32min\u001b[0m \u001b[0mrange\u001b[0m\u001b[0;34m(\u001b[0m\u001b[0mn_classes\u001b[0m\u001b[0;34m)\u001b[0m\u001b[0;34m:\u001b[0m\u001b[0;34m\u001b[0m\u001b[0;34m\u001b[0m\u001b[0m\n",
            "\u001b[0;31mAttributeError\u001b[0m: 'MultiClassLogisticRegression' object has no attribute 'classes'"
          ]
        }
      ]
    },
    {
      "cell_type": "markdown",
      "source": [
        "# Fisher's Linear Discriminant Analysis"
      ],
      "metadata": {
        "id": "njoLZK84-sv3"
      }
    },
    {
      "cell_type": "code",
      "source": [
        "fld = FLD()\n",
        "\n",
        "fld.fit(X_train, y_train)"
      ],
      "metadata": {
        "id": "i-uhvrbe2mNe",
        "colab": {
          "base_uri": "https://localhost:8080/"
        },
        "outputId": "dce29596-402f-47e1-f66f-914c8bce94ab"
      },
      "execution_count": null,
      "outputs": [
        {
          "output_type": "stream",
          "name": "stdout",
          "text": [
            "[ 0.13053055 40.83222427] [[-0.88607066 -0.44115384]\n",
            " [ 0.46355019 -0.8974315 ]]\n"
          ]
        }
      ]
    },
    {
      "cell_type": "code",
      "source": [
        "# For Q6\n",
        "print(\"Class mean vector: \", fld.mean_vectors)"
      ],
      "metadata": {
        "id": "t95-qsEl2nl_",
        "colab": {
          "base_uri": "https://localhost:8080/"
        },
        "outputId": "6c01234d-8ef4-4a85-c4e8-e1b05b707dc2"
      },
      "execution_count": null,
      "outputs": [
        {
          "output_type": "stream",
          "name": "stdout",
          "text": [
            "Class mean vector:  [array([-4.17505764,  6.35526804]), array([-9.43385176, -4.87830741]), array([-2.54454008,  7.53144179])]\n"
          ]
        }
      ]
    },
    {
      "cell_type": "code",
      "source": [
        "# For Q7\n",
        "print(\"Within-class scatter matrix SW: \", fld.sw)"
      ],
      "metadata": {
        "id": "czRrdHxV2olM",
        "colab": {
          "base_uri": "https://localhost:8080/"
        },
        "outputId": "284a66fb-fcfb-4e7b-960d-8f8bd37e8401"
      },
      "execution_count": null,
      "outputs": [
        {
          "output_type": "stream",
          "name": "stdout",
          "text": [
            "Within-class scatter matrix SW:  [[1052.70745046  -12.5828441 ]\n",
            " [ -12.5828441   971.29686189]]\n"
          ]
        }
      ]
    },
    {
      "cell_type": "code",
      "source": [
        "# For Q8\n",
        "print(\"Between-class scatter matrix SB: \", fld.sb)"
      ],
      "metadata": {
        "id": "oETHjp4Y2oqg",
        "colab": {
          "base_uri": "https://localhost:8080/"
        },
        "outputId": "5fa9e7e9-97a7-4301-f230-2fb4865affcd"
      },
      "execution_count": null,
      "outputs": [
        {
          "output_type": "stream",
          "name": "stdout",
          "text": [
            "Between-class scatter matrix SB:  [[ 8689.12907035 16344.86572983]\n",
            " [16344.86572983 31372.93949414]]\n"
          ]
        }
      ]
    },
    {
      "cell_type": "code",
      "source": [
        "# For Q9\n",
        "print(\"W: \", fld.w)"
      ],
      "metadata": {
        "id": "dRytOEMl2otd",
        "colab": {
          "base_uri": "https://localhost:8080/"
        },
        "outputId": "25606a90-c70a-494a-867e-01c02fc8001b"
      },
      "execution_count": null,
      "outputs": [
        {
          "output_type": "stream",
          "name": "stdout",
          "text": [
            "W:  [[-0.44115384 -0.88607066]\n",
            " [-0.8974315   0.46355019]]\n"
          ]
        }
      ]
    },
    {
      "cell_type": "code",
      "source": [
        "# For Q10\n",
        "y_pred = fld.predict_using_class_mean(X_train, y_train, X_test)\n",
        "print(\"FLD using class mean, accuracy: \", fld.accuracy_score(y_test, y_pred))\n",
        "\n",
        "fld.show_confusion_matrix(y_test, y_pred)"
      ],
      "metadata": {
        "id": "Q9XMtITV2owM",
        "colab": {
          "base_uri": "https://localhost:8080/",
          "height": 466
        },
        "outputId": "1d062320-2294-485b-a2ac-b4a521943600"
      },
      "execution_count": null,
      "outputs": [
        {
          "output_type": "stream",
          "name": "stdout",
          "text": [
            "FLD using class mean, accuracy:  0.333496\n"
          ]
        },
        {
          "output_type": "display_data",
          "data": {
            "text/plain": [
              "<Figure size 640x480 with 2 Axes>"
            ],
            "image/png": "[encoded data removed]"
          },
          "metadata": {}
        }
      ]
    },
    {
      "cell_type": "code",
      "source": [
        "# For Q11\n",
        "y_pred_k1 = fld.predict_using_knn(X_train, y_train, X_test, k=1)\n",
        "print(\"FLD using knn (k=1), accuracy: \", fld.accuracy_score(y_test, y_pred_k1))\n",
        "\n",
        "y_pred_k2 = fld.predict_using_knn(X_train, y_train, X_test, k=2)\n",
        "print(\"FLD using knn (k=2), accuracy: \", fld.accuracy_score(y_test, y_pred_k2))\n",
        "\n",
        "y_pred_k3 = fld.predict_using_knn(X_train, y_train, X_test, k=3)\n",
        "print(\"FLD using knn (k=3), accuracy: \", fld.accuracy_score(y_test, y_pred_k3))\n",
        "\n",
        "y_pred_k4 = fld.predict_using_knn(X_train, y_train, X_test, k=4)\n",
        "print(\"FLD using knn (k=4), accuracy: \", fld.accuracy_score(y_test, y_pred_k4))\n",
        "\n",
        "y_pred_k5 = fld.predict_using_knn(X_train, y_train, X_test, k=5)\n",
        "print(\"FLD using knn (k=5), accuracy: \", fld.accuracy_score(y_test, y_pred_k5))"
      ],
      "metadata": {
        "id": "7mmAB2BZ2oy5",
        "colab": {
          "base_uri": "https://localhost:8080/"
        },
        "outputId": "8952ae8e-044f-4771-9d20-d731ffb81d71"
      },
      "execution_count": null,
      "outputs": [
        {
          "output_type": "stream",
          "name": "stdout",
          "text": [
            "FLD using knn (k=1), accuracy:  0.34\n",
            "FLD using knn (k=2), accuracy:  0.34\n",
            "FLD using knn (k=3), accuracy:  0.34\n",
            "FLD using knn (k=4), accuracy:  0.33675\n",
            "FLD using knn (k=5), accuracy:  0.3348\n"
          ]
        }
      ]
    },
    {
      "cell_type": "code",
      "source": [
        "# For Q12, using only training data\n",
        "fld.plot_projection(X_train, y_train)"
      ],
      "metadata": {
        "id": "uAaGRQkg2o1e",
        "colab": {
          "base_uri": "https://localhost:8080/",
          "height": 466
        },
        "outputId": "587aef7f-f36a-4374-ec8f-004a348782a2"
      },
      "execution_count": null,
      "outputs": [
        {
          "output_type": "stream",
          "name": "stdout",
          "text": [
            "(1000, 2) (1000, 2)\n"
          ]
        },
        {
          "output_type": "display_data",
          "data": {
            "text/plain": [
              "<Figure size 640x480 with 1 Axes>"
            ],
            "image/png": "[encoded data removed]"
          },
          "metadata": {}
        }
      ]
    },
    {
      "cell_type": "markdown",
      "source": [
        "# Train your own model on provided dataset.\n",
        "You can only using 1) **Fisher's Linear Discriminant** or 2) **Logistic Regression** that you have implemented above."
      ],
      "metadata": {
        "id": "PDeFV2_uAoL_"
      }
    },
    {
      "cell_type": "code",
      "source": [
        "df_train = pd.DataFrame(pd.read_csv(\"./PR_HW2_train.csv\"))\n",
        "df_val   = pd.DataFrame(pd.read_csv(\"./PR_HW2_val.csv\"))\n",
        "df_test  = pd.DataFrame(pd.read_csv(\"./PR_HW2_test.csv\"))"
      ],
      "metadata": {
        "id": "0GkkThFyBTN3"
      },
      "execution_count": null,
      "outputs": []
    },
    {
      "cell_type": "code",
      "source": [
        "df_train.head()"
      ],
      "metadata": {
        "id": "6Si9iL-0BWQS"
      },
      "execution_count": null,
      "outputs": []
    },
    {
      "cell_type": "code",
      "source": [
        "df_test.head()"
      ],
      "metadata": {
        "id": "qw1B1bIkBdN4"
      },
      "execution_count": null,
      "outputs": []
    },
    {
      "cell_type": "code",
      "source": [
        "# Data processing\n",
        "\n",
        "# Refer to section \"Prepare data for Q1 ~ Q12\""
      ],
      "metadata": {
        "id": "tDeQjZsuDagp"
      },
      "execution_count": null,
      "outputs": []
    },
    {
      "cell_type": "code",
      "source": [
        "# Train your model here\n",
        "\n",
        "# your_model = ..."
      ],
      "metadata": {
        "id": "p9vEErR9Bf_a"
      },
      "execution_count": null,
      "outputs": []
    },
    {
      "cell_type": "code",
      "source": [
        "test_pred = your_model.predict(x_test)\n",
        "print(\"test_pred shape: \", test_pred.shape)"
      ],
      "metadata": {
        "id": "68NrvUPsBsy8"
      },
      "execution_count": null,
      "outputs": []
    },
    {
      "cell_type": "markdown",
      "source": [
        "# Output the csv file"
      ],
      "metadata": {
        "id": "LBTMFtdlB55p"
      }
    },
    {
      "cell_type": "code",
      "source": [
        "# For Q13\n",
        "df_test = pd.DataFrame(pd.read_csv(\"./PR_HW2_test.csv\"))\n",
        "df_test[\"Target\"] = test_pred\n",
        "df_test.to_csv(\"sample_output.csv\")"
      ],
      "metadata": {
        "id": "C2OL-EI2B3ja"
      },
      "execution_count": null,
      "outputs": []
    }
  ]
}